{
 "cells": [
  {
   "cell_type": "code",
   "execution_count": 30,
   "metadata": {},
   "outputs": [],
   "source": [
    "from functools import wraps\n",
    "\n",
    "def make_html(prefix):\n",
    "    def make_html_inner(original_function):\n",
    "        @wraps(original_function)\n",
    "        def wrapper_function(*args, **kwargs):\n",
    "            result = f\"<{prefix}>{original_function()}</{prefix}>\"\n",
    "            return result\n",
    "        return wrapper_function\n",
    "    return make_html_inner"
   ]
  },
  {
   "cell_type": "code",
   "execution_count": null,
   "metadata": {},
   "outputs": [],
   "source": [
    "def make_html(element):\n",
    "    def real_decorator(func):\n",
    "        @wraps(func)\n",
    "        def wrapper(*args, **kwargs):\n",
    "            return f'<{element}>{func(*args, **kwargs)}</{element}>'\n",
    "        return wrapper\n",
    "    return real_decorator"
   ]
  },
  {
   "cell_type": "code",
   "execution_count": 26,
   "metadata": {},
   "outputs": [],
   "source": [
    "@make_html('p')\n",
    "@make_html('strong')\n",
    "def get_text(text='I code with PyBites'):\n",
    "    return text"
   ]
  },
  {
   "cell_type": "code",
   "execution_count": 27,
   "metadata": {},
   "outputs": [
    {
     "data": {
      "text/plain": [
       "'<p><strong>I code with PyBites</strong></p>'"
      ]
     },
     "execution_count": 27,
     "metadata": {},
     "output_type": "execute_result"
    }
   ],
   "source": [
    "get_text()"
   ]
  },
  {
   "cell_type": "code",
   "execution_count": 28,
   "metadata": {},
   "outputs": [],
   "source": [
    "def test_make_html():\n",
    "    @make_html('p')\n",
    "    @make_html('strong')\n",
    "    def get_text(text='I code with PyBites'):\n",
    "        return text\n",
    "\n",
    "    assert get_text() == '<p><strong>I code with PyBites</strong></p>'"
   ]
  },
  {
   "cell_type": "code",
   "execution_count": 29,
   "metadata": {},
   "outputs": [],
   "source": [
    "test_make_html()"
   ]
  },
  {
   "cell_type": "code",
   "execution_count": null,
   "metadata": {},
   "outputs": [],
   "source": [
    "'<p><strong>I code with PyBites</strong></p>'\n",
    "'<p><strong>I code with PyBites<strong><p>'"
   ]
  },
  {
   "cell_type": "code",
   "execution_count": 19,
   "metadata": {},
   "outputs": [],
   "source": [
    "def mydecorator(function):\n",
    "    @wraps(function)\n",
    "    def wrapper(*args, **kwargs):\n",
    "        print('before')\n",
    "        # call the passed in function\n",
    "        result = function(*args, **kwargs)\n",
    "        print(result)\n",
    "        return result\n",
    "    # return wrapper = decorated function\n",
    "    return wrapper"
   ]
  },
  {
   "cell_type": "code",
   "execution_count": 20,
   "metadata": {},
   "outputs": [],
   "source": [
    "@mydecorator\n",
    "def make_word(word):\n",
    "    return word"
   ]
  },
  {
   "cell_type": "code",
   "execution_count": 21,
   "metadata": {},
   "outputs": [
    {
     "name": "stdout",
     "output_type": "stream",
     "text": [
      "before\n",
      "dave\n",
      "dave\n"
     ]
    }
   ],
   "source": [
    "print(make_word('dave'))"
   ]
  },
  {
   "cell_type": "code",
   "execution_count": 40,
   "metadata": {},
   "outputs": [],
   "source": [
    "\n",
    "def get_profile(name, active=True, *args, **kwargs):\n",
    "    print('Positional arguments (required): ', name)\n",
    "    print('Keyword arguments (not required, default values): ', active)\n",
    "    print('Arbitrary argument list (sports): ', args)\n",
    "    print('Arbitrary keyword argument dictionary (awards): ', kwargs)\n",
    "    for i in args:\n",
    "        print(i)"
   ]
  },
  {
   "cell_type": "code",
   "execution_count": 41,
   "metadata": {},
   "outputs": [
    {
     "name": "stdout",
     "output_type": "stream",
     "text": [
      "Positional arguments (required):  dave\n",
      "Keyword arguments (not required, default values):  False\n",
      "Arbitrary argument list (sports):  ('dave_args1, dave_args2',)\n",
      "Arbitrary keyword argument dictionary (awards):  {}\n",
      "dave_args1, dave_args2\n",
      "None\n"
     ]
    }
   ],
   "source": [
    "print(get_profile('dave', False, 'dave_args1, dave_args2' ))"
   ]
  },
  {
   "cell_type": "code",
   "execution_count": null,
   "metadata": {},
   "outputs": [],
   "source": []
  }
 ],
 "metadata": {
  "kernelspec": {
   "display_name": "100days",
   "language": "python",
   "name": "100days"
  },
  "language_info": {
   "codemirror_mode": {
    "name": "ipython",
    "version": 3
   },
   "file_extension": ".py",
   "mimetype": "text/x-python",
   "name": "python",
   "nbconvert_exporter": "python",
   "pygments_lexer": "ipython3",
   "version": "3.6.7"
  }
 },
 "nbformat": 4,
 "nbformat_minor": 2
}
