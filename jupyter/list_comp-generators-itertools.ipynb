{
 "cells": [
  {
   "cell_type": "code",
   "execution_count": 3,
   "metadata": {},
   "outputs": [],
   "source": [
    "NAMES = ['arnold schwarzenegger', 'alec baldwin', 'bob belderbos',\n",
    "         'julian sequeira', 'sandra bullock', 'keanu reeves',\n",
    "         'julbob pybites', 'bob belderbos', 'julian sequeira',\n",
    "         'al pacino', 'brad pitt', 'matt damon', 'brad pitt']"
   ]
  },
  {
   "cell_type": "code",
   "execution_count": 17,
   "metadata": {},
   "outputs": [
    {
     "name": "stdout",
     "output_type": "stream",
     "text": [
      "['Arnold Schwarzenegger', 'Alec Baldwin', 'Bob Belderbos', 'Julian Sequeira', 'Sandra Bullock', 'Keanu Reeves', 'Julbob Pybites', 'Al Pacino', 'Brad Pitt', 'Matt Damon']\n"
     ]
    }
   ],
   "source": [
    "def dedup_and_title_case_names(names):\n",
    "    \"\"\"Should return a list of names, each name appears only once\"\"\"\n",
    "    dedup = []\n",
    "    [dedup.append(i.title()) for i in names if i.title() not in dedup]\n",
    "    return dedup\n",
    "\n",
    "print(dedup_and_title_case_names(NAMES))\n",
    "dave = dedup_and_title_case_names(NAMES)"
   ]
  },
  {
   "cell_type": "code",
   "execution_count": 33,
   "metadata": {},
   "outputs": [
    {
     "name": "stdout",
     "output_type": "stream",
     "text": [
      "['Julian Sequeira', 'Arnold Schwarzenegger', 'Keanu Reeves', 'Julbob Pybites', 'Brad Pitt', 'Al Pacino', 'Matt Damon', 'Sandra Bullock', 'Bob Belderbos', 'Alec Baldwin']\n"
     ]
    }
   ],
   "source": [
    "def sort_by_surname_desc(names):\n",
    "    \"\"\"Returns names list sorted desc by surname\"\"\"\n",
    "    names = dedup_and_title_case_names(names)\n",
    "    return sorted(names, key=lambda x: x.split(\" \")[-1], reverse=True)\n",
    "\n",
    "print(sort_by_surname_desc(NAMES))"
   ]
  },
  {
   "cell_type": "code",
   "execution_count": 43,
   "metadata": {},
   "outputs": [
    {
     "name": "stdout",
     "output_type": "stream",
     "text": [
      "Al\n"
     ]
    }
   ],
   "source": [
    "def shortest_first_name(names):\n",
    "    \"\"\"Returns the shortest first name (str)\"\"\"\n",
    "    names = dedup_and_title_case_names(names)\n",
    "    return sorted(names, key=lambda x: len(x.split(\" \")[0]))[0].split()[0]\n",
    "\n",
    "print(shortest_first_name(NAMES))"
   ]
  },
  {
   "cell_type": "code",
   "execution_count": 25,
   "metadata": {},
   "outputs": [
    {
     "data": {
      "text/plain": [
       "10"
      ]
     },
     "execution_count": 25,
     "metadata": {},
     "output_type": "execute_result"
    }
   ],
   "source": [
    "len(dave)"
   ]
  },
  {
   "cell_type": "code",
   "execution_count": 29,
   "metadata": {},
   "outputs": [],
   "source": [
    "def test_dedup_and_title_case_names():\n",
    "    names = dedup_and_title_case_names(NAMES)\n",
    "    assert names.count('Bob Belderbos') == 1\n",
    "    assert names.count('julian sequeira') == 0\n",
    "    assert names.count('Brad Pitt') == 1\n",
    "    assert len(names) == 10\n",
    "    assert all(n.title() in names for n in NAMES)\n",
    "\n",
    "\n",
    "def test_sort_by_surname_desc():\n",
    "    names = sort_by_surname_desc(NAMES)\n",
    "    assert names[0] == 'Julian Sequeira'\n",
    "    assert names[-1] == 'Alec Baldwin'\n",
    "\n",
    "\n",
    "def test_shortest_first_name():\n",
    "    assert shortest_first_name(NAMES) == 'Al'"
   ]
  },
  {
   "cell_type": "code",
   "execution_count": 31,
   "metadata": {},
   "outputs": [
    {
     "name": "stdout",
     "output_type": "stream",
     "text": [
      "None\n"
     ]
    }
   ],
   "source": [
    "print(test_dedup_and_title_case_names())"
   ]
  },
  {
   "cell_type": "code",
   "execution_count": 34,
   "metadata": {},
   "outputs": [
    {
     "name": "stdout",
     "output_type": "stream",
     "text": [
      "None\n"
     ]
    }
   ],
   "source": [
    "print(test_sort_by_surname_desc())"
   ]
  },
  {
   "cell_type": "code",
   "execution_count": 44,
   "metadata": {},
   "outputs": [
    {
     "name": "stdout",
     "output_type": "stream",
     "text": [
      "None\n"
     ]
    }
   ],
   "source": [
    "print(test_shortest_first_name())"
   ]
  },
  {
   "cell_type": "code",
   "execution_count": 45,
   "metadata": {},
   "outputs": [],
   "source": [
    "bites = {6: 'PyBites Die Hard',\n",
    "         7: 'Parsing dates from logs',\n",
    "         9: 'Palindromes',\n",
    "         10: 'Practice exceptions',\n",
    "         11: 'Enrich a class with dunder methods',\n",
    "         12: 'Write a user validation function',\n",
    "         13: 'Convert dict in namedtuple/json',\n",
    "         14: 'Generate a table of n sequences',\n",
    "         15: 'Enumerate 2 sequences',\n",
    "         16: 'Special PyBites date generator',\n",
    "         17: 'Form teams from a group of friends',\n",
    "         18: 'Find the most common word',\n",
    "         19: 'Write a simple property',\n",
    "         20: 'Write a context manager',\n",
    "         21: 'Query a nested data structure'}\n",
    "\n",
    "exclude_bites = {6, 10, 16, 18, 21}"
   ]
  },
  {
   "cell_type": "code",
   "execution_count": 53,
   "metadata": {},
   "outputs": [
    {
     "name": "stdout",
     "output_type": "stream",
     "text": [
      "{7: 'Parsing dates from logs', 9: 'Palindromes', 11: 'Enrich a class with dunder methods', 12: 'Write a user validation function', 13: 'Convert dict in namedtuple/json', 14: 'Generate a table of n sequences', 15: 'Enumerate 2 sequences', 17: 'Form teams from a group of friends', 19: 'Write a simple property', 20: 'Write a context manager'}\n"
     ]
    }
   ],
   "source": [
    "def filter_bites(bites=bites, bites_done=exclude_bites):\n",
    "    \"\"\"return the bites dict with the exclude_bites filtered out\"\"\"\n",
    "    return {key: value for (key, value) in bites.items() if key not in exclude_bites}\n",
    "\n",
    "print(filter_bites())"
   ]
  },
  {
   "cell_type": "code",
   "execution_count": 50,
   "metadata": {},
   "outputs": [
    {
     "data": {
      "text/plain": [
       "set"
      ]
     },
     "execution_count": 50,
     "metadata": {},
     "output_type": "execute_result"
    }
   ],
   "source": [
    "type(exclude_bites)"
   ]
  },
  {
   "cell_type": "code",
   "execution_count": 51,
   "metadata": {},
   "outputs": [
    {
     "data": {
      "text/plain": [
       "True"
      ]
     },
     "execution_count": 51,
     "metadata": {},
     "output_type": "execute_result"
    }
   ],
   "source": [
    "6 in exclude_bites"
   ]
  },
  {
   "cell_type": "code",
   "execution_count": 55,
   "metadata": {},
   "outputs": [
    {
     "name": "stdout",
     "output_type": "stream",
     "text": [
      "None\n"
     ]
    }
   ],
   "source": [
    "def test_filter_bites():\n",
    "    result = filter_bites()\n",
    "    assert type(result) == dict\n",
    "    assert len(result) == 10\n",
    "    for bite in exclude_bites:\n",
    "        assert bite not in result, f'Bite {bite} should not be in result'\n",
    "\n",
    "print(test_filter_bites())"
   ]
  },
  {
   "cell_type": "code",
   "execution_count": 57,
   "metadata": {},
   "outputs": [
    {
     "name": "stdout",
     "output_type": "stream",
     "text": [
      "      1 sys\r\n",
      "      1 pkg_resources\r\n",
      "      1 os\r\n"
     ]
    }
   ],
   "source": [
    "!grep ^import `ls ../../*/*py | xargs` | awk '{print $2}' | sort | uniq -c | sort -nr"
   ]
  },
  {
   "cell_type": "code",
   "execution_count": 58,
   "metadata": {},
   "outputs": [],
   "source": [
    "import glob\n",
    "import re\n",
    "\n",
    "from collections import Counter\n",
    "\n",
    "\n",
    "def display_gen(generator):\n",
    "    for gen in generator:\n",
    "        print(gen)\n",
    "\n",
    "def gen_files(pat):\n",
    "    yield from glob.glob(pat)\n",
    "\n",
    "def gen_lines(files):\n",
    "    for file in files:\n",
    "        with open(file) as f:\n",
    "            for line in f.readlines():\n",
    "                yield line\n",
    "\n",
    "def gen_grep(lines, pat):\n",
    "    return (re.sub(pat, '', l).rstrip() for l in lines if l.startswith(pat))\n",
    "\n",
    "\n",
    "def gen_count(lines):\n",
    "    return (f'{cnt[1]:>7} {cnt[0]}' for cnt in Counter(lines).most_common())"
   ]
  },
  {
   "cell_type": "code",
   "execution_count": 128,
   "metadata": {},
   "outputs": [
    {
     "name": "stdout",
     "output_type": "stream",
     "text": [
      "      1 sys\n",
      "      1 os\n",
      "      1 pkg_resources\n"
     ]
    }
   ],
   "source": [
    "files = gen_files('../../*/*py')\n",
    "lines = gen_lines(files)\n",
    "imports = gen_grep(lines, r'import ')\n",
    "counts = gen_count(imports)\n",
    "display_gen(counts)"
   ]
  },
  {
   "cell_type": "code",
   "execution_count": 129,
   "metadata": {},
   "outputs": [],
   "source": [
    "import itertools"
   ]
  },
  {
   "cell_type": "code",
   "execution_count": 130,
   "metadata": {},
   "outputs": [
    {
     "name": "stdout",
     "output_type": "stream",
     "text": [
      "[]\n",
      "{(3, 'three'), (1, 'one'), (2, 'two')}\n"
     ]
    }
   ],
   "source": [
    "numberList = [1, 2, 3]\n",
    "strList = ['one', 'two', 'three']\n",
    "\n",
    "# No iterables are passed\n",
    "result = zip()\n",
    "\n",
    "# Converting itertor to list\n",
    "resultList = list(result)\n",
    "print(resultList)\n",
    "\n",
    "# Two iterables are passed\n",
    "result = zip(numberList, strList)\n",
    "\n",
    "# Converting itertor to set\n",
    "resultSet = set(result)\n",
    "print(resultSet)"
   ]
  },
  {
   "cell_type": "code",
   "execution_count": 131,
   "metadata": {},
   "outputs": [],
   "source": [
    "count = itertools.count()\n",
    "dave = [100, 200, 300, 400]"
   ]
  },
  {
   "cell_type": "code",
   "execution_count": 141,
   "metadata": {},
   "outputs": [
    {
     "name": "stdout",
     "output_type": "stream",
     "text": [
      "[('d', 't'), ('a', 'h'), ('v', 'o'), ('e', 'm')]\n"
     ]
    }
   ],
   "source": [
    "a = 'd a v e'.split()\n",
    "b = 't h o m a s'.split()\n",
    "c = zip(a,b)\n",
    "print(list(c))"
   ]
  },
  {
   "cell_type": "code",
   "execution_count": 136,
   "metadata": {},
   "outputs": [
    {
     "name": "stdout",
     "output_type": "stream",
     "text": [
      "['dave']\n"
     ]
    }
   ],
   "source": [
    "print(a)"
   ]
  },
  {
   "cell_type": "code",
   "execution_count": 140,
   "metadata": {},
   "outputs": [
    {
     "name": "stdout",
     "output_type": "stream",
     "text": [
      "[]\n"
     ]
    }
   ],
   "source": [
    "print(list(c))"
   ]
  },
  {
   "cell_type": "code",
   "execution_count": 144,
   "metadata": {},
   "outputs": [],
   "source": [
    "d = 29\n",
    "x = lambda d: d * 5"
   ]
  },
  {
   "cell_type": "code",
   "execution_count": 146,
   "metadata": {},
   "outputs": [
    {
     "name": "stdout",
     "output_type": "stream",
     "text": [
      "145\n"
     ]
    }
   ],
   "source": [
    "print(x(d))"
   ]
  },
  {
   "cell_type": "code",
   "execution_count": 147,
   "metadata": {
    "scrolled": true
   },
   "outputs": [
    {
     "data": {
      "text/plain": [
       "['__doc__',\n",
       " '__loader__',\n",
       " '__name__',\n",
       " '__package__',\n",
       " '__spec__',\n",
       " '_grouper',\n",
       " '_tee',\n",
       " '_tee_dataobject',\n",
       " 'accumulate',\n",
       " 'chain',\n",
       " 'combinations',\n",
       " 'combinations_with_replacement',\n",
       " 'compress',\n",
       " 'count',\n",
       " 'cycle',\n",
       " 'dropwhile',\n",
       " 'filterfalse',\n",
       " 'groupby',\n",
       " 'islice',\n",
       " 'permutations',\n",
       " 'product',\n",
       " 'repeat',\n",
       " 'starmap',\n",
       " 'takewhile',\n",
       " 'tee',\n",
       " 'zip_longest']"
      ]
     },
     "execution_count": 147,
     "metadata": {},
     "output_type": "execute_result"
    }
   ],
   "source": [
    "dir(itertools)"
   ]
  },
  {
   "cell_type": "code",
   "execution_count": 152,
   "metadata": {},
   "outputs": [
    {
     "name": "stdout",
     "output_type": "stream",
     "text": [
      "2\n",
      "2\n"
     ]
    }
   ],
   "source": [
    "counter = itertools.repeat(2)\n",
    "print(next(counter))\n",
    "print(next(counter))"
   ]
  },
  {
   "cell_type": "code",
   "execution_count": 161,
   "metadata": {},
   "outputs": [
    {
     "name": "stdout",
     "output_type": "stream",
     "text": [
      "[0, 1, 4, 9, 16, 25, 36, 49, 64, 81]\n"
     ]
    }
   ],
   "source": [
    "print(list(map(pow, range(10), itertools.repeat(2) )))"
   ]
  },
  {
   "cell_type": "code",
   "execution_count": 166,
   "metadata": {},
   "outputs": [
    {
     "name": "stdout",
     "output_type": "stream",
     "text": [
      "('Tim', 'DE', False)\n",
      "('Bob', 'ES', True)\n",
      "('Julian', 'AUS', True)\n",
      "('Carmen', 'NL', False)\n",
      "('Sofia', 'BR', True)\n",
      "('Mike', 'US', '-')\n",
      "('Kim', '-', '-')\n",
      "('Andre', '-', '-')\n",
      "None\n"
     ]
    }
   ],
   "source": [
    "import itertools\n",
    "\n",
    "names = 'Tim Bob Julian Carmen Sofia Mike Kim Andre'.split()\n",
    "locations = 'DE ES AUS NL BR US'.split()\n",
    "confirmed = [False, True, True, False, True]\n",
    "\n",
    "def get_attendees():\n",
    "    for participant in itertools.zip_longest(names, locations, confirmed, fillvalue='-'):\n",
    "        print(participant)\n",
    "\n",
    "print(get_attendees())"
   ]
  },
  {
   "cell_type": "code",
   "execution_count": 84,
   "metadata": {},
   "outputs": [
    {
     "name": "stdout",
     "output_type": "stream",
     "text": [
      "('Bob', 'Dante')\n",
      "('Bob', 'Julian')\n",
      "('Bob', 'Martin')\n",
      "('Dante', 'Bob')\n",
      "('Dante', 'Julian')\n",
      "('Dante', 'Martin')\n",
      "('Julian', 'Bob')\n",
      "('Julian', 'Dante')\n",
      "('Julian', 'Martin')\n",
      "('Martin', 'Bob')\n",
      "('Martin', 'Dante')\n",
      "('Martin', 'Julian')\n"
     ]
    }
   ],
   "source": [
    "from itertools import permutations, combinations\n",
    "friends = 'Bob Dante Julian Martin'.split()\n",
    "\n",
    "def friends_teams(x, team_size=2, order_does_matter=True):\n",
    "    return permutations(x, team_size) if order_does_matter else combinations(x, team_size)\n",
    "              \n",
    "for i in friends_teams(friends, 2, order_does_matter=True):\n",
    "    print(i)"
   ]
  },
  {
   "cell_type": "code",
   "execution_count": 74,
   "metadata": {},
   "outputs": [
    {
     "ename": "TypeError",
     "evalue": "test_team_of_three_order_does_matter() missing 2 required positional arguments: 'test_input' and 'expected'",
     "output_type": "error",
     "traceback": [
      "\u001b[0;31m---------------------------------------------------------------------------\u001b[0m",
      "\u001b[0;31mTypeError\u001b[0m                                 Traceback (most recent call last)",
      "\u001b[0;32m<ipython-input-74-ddeaa6979dc6>\u001b[0m in \u001b[0;36m<module>\u001b[0;34m\u001b[0m\n\u001b[0;32m----> 1\u001b[0;31m \u001b[0mprint\u001b[0m\u001b[0;34m(\u001b[0m\u001b[0mtest_team_of_three_order_does_matter\u001b[0m\u001b[0;34m(\u001b[0m\u001b[0;34m)\u001b[0m\u001b[0;34m)\u001b[0m\u001b[0;34m\u001b[0m\u001b[0;34m\u001b[0m\u001b[0m\n\u001b[0m",
      "\u001b[0;31mTypeError\u001b[0m: test_team_of_three_order_does_matter() missing 2 required positional arguments: 'test_input' and 'expected'"
     ]
    }
   ],
   "source": [
    "import pytest\n",
    "\n",
    "friends = 'Bob Dante Julian Martin'.split()\n",
    "\n",
    "@pytest.mark.parametrize('test_input,expected', [\n",
    "    (('Bob', 'Dante'), True),\n",
    "    (('Bob', 'Julian'), True),\n",
    "    (('Bob', 'Martin'), True),\n",
    "    (('Dante', 'Julian'), True),\n",
    "    (('Dante', 'Martin'), True),\n",
    "    (('Julian', 'Martin'), True),\n",
    "    # order does not matter\n",
    "    (('Dante', 'Bob'), False),\n",
    "    (('Julian', 'Bob'), False),\n",
    "    (('Martin', 'Bob'), False),\n",
    "    (('Julian', 'Dante'), False),\n",
    "    (('Martin', 'Dante'), False),\n",
    "    (('Martin', 'Julian'), False),\n",
    "    # not with self\n",
    "    (('Julian', 'Julian'), False),\n",
    "])\n",
    "def test_team_of_two_order_does_not_matter(test_input, expected):\n",
    "    \"\"\"First test lists all combos\"\"\"\n",
    "    combos = list(friends_teams(friends, team_size=2, order_does_matter=False))\n",
    "    assert len(combos) == 6\n",
    "    if expected:\n",
    "        assert test_input in combos\n",
    "    else:\n",
    "        assert test_input not in combos\n",
    "\n",
    "\n",
    "@pytest.mark.parametrize('test_input,expected', [\n",
    "    (('Bob', 'Dante'), True),\n",
    "    (('Dante', 'Julian'), True),\n",
    "    (('Dante', 'Martin'), True),\n",
    "    # order does matter\n",
    "    (('Dante', 'Bob'), True),\n",
    "    (('Julian', 'Dante'), True),\n",
    "    (('Martin', 'Dante'), True),\n",
    "])\n",
    "def test_team_of_two_order_does_matter(test_input, expected):\n",
    "    \"\"\"From here on just test a subset of combos\"\"\"\n",
    "    combos = list(friends_teams(friends, team_size=2, order_does_matter=True))\n",
    "    assert len(combos) == 12\n",
    "    assert test_input in combos\n",
    "\n",
    "\n",
    "@pytest.mark.parametrize('test_input,expected', [\n",
    "    (('Bob', 'Dante', 'Julian'), True),\n",
    "    (('Bob', 'Dante', 'Martin'), True),\n",
    "    (('Bob', 'Julian', 'Martin'), True),\n",
    "    (('Dante', 'Julian', 'Martin'), True),\n",
    "    # order does not matter\n",
    "    (('Dante', 'Bob', 'Martin'), False),\n",
    "    (('Julian', 'Martin', 'Dante'), False),\n",
    "    # no one goes twice\n",
    "    (('Dante', 'Dante', 'Martin'), False),\n",
    "])\n",
    "def test_team_of_three_order_does_not_matter(test_input, expected):\n",
    "    combos = list(friends_teams(friends, team_size=3, order_does_matter=False))\n",
    "    assert len(combos) == 4\n",
    "    if expected:\n",
    "        assert test_input in combos\n",
    "    else:\n",
    "        assert test_input not in combos\n",
    "\n",
    "\n",
    "@pytest.mark.parametrize('test_input,expected', [\n",
    "    (('Bob', 'Dante', 'Julian'), True),\n",
    "    (('Bob', 'Dante', 'Martin'), True),\n",
    "    (('Bob', 'Julian', 'Martin'), True),\n",
    "    (('Dante', 'Julian', 'Martin'), True),\n",
    "    # order does matter\n",
    "    (('Dante', 'Bob', 'Martin'), True),\n",
    "    (('Julian', 'Martin', 'Dante'), True),\n",
    "])\n",
    "def test_team_of_three_order_does_matter(test_input, expected):\n",
    "    combos = list(friends_teams(friends, team_size=3, order_does_matter=True))\n",
    "    assert len(combos) == 24\n",
    "    assert test_input in combos"
   ]
  },
  {
   "cell_type": "code",
   "execution_count": 104,
   "metadata": {},
   "outputs": [
    {
     "data": {
      "text/plain": [
       "[('Bob', 'Dante', 'Julian'),\n",
       " ('Bob', 'Dante', 'Martin'),\n",
       " ('Bob', 'Julian', 'Martin'),\n",
       " ('Dante', 'Julian', 'Martin')]"
      ]
     },
     "execution_count": 104,
     "metadata": {},
     "output_type": "execute_result"
    }
   ],
   "source": [
    "list(friends_teams(friends, team_size=3, order_does_matter=False))"
   ]
  },
  {
   "cell_type": "code",
   "execution_count": 1,
   "metadata": {},
   "outputs": [],
   "source": [
    "import os\n",
    "import urllib.request\n",
    "import operator\n",
    "\n",
    "# PREWORK\n",
    "DICTIONARY = os.path.join('/tmp', 'dictionary.txt')\n",
    "urllib.request.urlretrieve('http://bit.ly/2iQ3dlZ', DICTIONARY)\n",
    "scrabble_scores = [(1, \"E A O I N R T L S U\"), (2, \"D G\"), (3, \"B C M P\"),\n",
    "                   (4, \"F H V W Y\"), (5, \"K\"), (8, \"J X\"), (10, \"Q Z\")]\n",
    "LETTER_SCORES = {letter: score for score, letters in scrabble_scores\n",
    "                 for letter in letters.split()}\n",
    "\n",
    "def load_words():\n",
    "    \"\"\"load the words dictionary (DICTIONARY constant) into a list and return it\"\"\"\n",
    "    with open(DICTIONARY) as f:\n",
    "        return [word.strip() for word in f.read().split()]\n",
    "\n",
    "\n",
    "def calc_word_value(word):\n",
    "    \"\"\"given a word calculate its value using LETTER_SCORES\"\"\"\n",
    "    return sum(LETTER_SCORES.get(char.upper(), 0) for char in word)\n",
    "\n",
    "def max_word_value(words=None):\n",
    "    \"\"\"given a list of words return the word with the maximum word value\"\"\"\n",
    "    if words is None:\n",
    "        words = load_words()\n",
    "    return max(words, key=calc_word_value)"
   ]
  },
  {
   "cell_type": "code",
   "execution_count": 2,
   "metadata": {},
   "outputs": [
    {
     "data": {
      "text/plain": [
       "('/tmp/dictionary.txt', <http.client.HTTPMessage at 0x7f9c7c3d4630>)"
      ]
     },
     "execution_count": 2,
     "metadata": {},
     "output_type": "execute_result"
    }
   ],
   "source": [
    "import itertools\n",
    "import os\n",
    "import urllib.request\n",
    "import random\n",
    "import string\n",
    "\n",
    "# PREWORK\n",
    "DICTIONARY = os.path.join('/tmp', 'dictionary.txt')\n",
    "urllib.request.urlretrieve('http://bit.ly/2iQ3dlZ', DICTIONARY)"
   ]
  },
  {
   "cell_type": "code",
   "execution_count": 30,
   "metadata": {},
   "outputs": [],
   "source": [
    "with open(DICTIONARY) as f:\n",
    "    dictionary = set([word.strip().lower() for word in f.read().split()])"
   ]
  },
  {
   "cell_type": "code",
   "execution_count": 29,
   "metadata": {},
   "outputs": [],
   "source": [
    "def get_possible_dict_words(draw):\n",
    "    \"\"\"Get all possible words from a draw (list of letters) which are\n",
    "       valid dictionary words. Use _get_permutations_draw and provided\n",
    "       dictionary\"\"\"\n",
    "    valid_words = []\n",
    "    words_to_check = _get_permutations_draw(draw)\n",
    "    for i in words_to_check:\n",
    "        for word in i:\n",
    "            if ''.join(word).lower() in dictionary:\n",
    "                valid_words.append(''.join(word).lower())\n",
    "    return valid_words\n",
    "\n",
    "def _get_permutations_draw(draw):\n",
    "    \"\"\"Helper to get all permutations of a draw (list of letters), hint:\n",
    "       use itertools.permutations (order of letters matters)\"\"\"\n",
    "    all_perms = []\n",
    "    for i in range(1,8):\n",
    "        all_perms.append(itertools.permutations(draw, i))\n",
    "    return all_perms   "
   ]
  },
  {
   "cell_type": "code",
   "execution_count": 40,
   "metadata": {},
   "outputs": [],
   "source": [
    "def get_possible_dict_words1(draw):\n",
    "    \"\"\"Get all possible words from a draw (list of letters) which are\n",
    "       valid dictionary words. Use _get_permutations_draw and provided\n",
    "       dictionary\"\"\"\n",
    "    permutations = [''.join(word).lower()\n",
    "                    for word in _get_permutations_draw1(draw)]\n",
    "    return set(permutations) & set(dictionary)\n",
    "\n",
    "\n",
    "def _get_permutations_draw1(draw):\n",
    "    \"\"\"Helper to get all permutations of a draw (list of letters), hint:\n",
    "       use itertools.permutations (order of letters matters)\"\"\"\n",
    "    for i in range(1, 8):\n",
    "        yield from list(itertools.permutations(draw, i))"
   ]
  },
  {
   "cell_type": "code",
   "execution_count": 31,
   "metadata": {},
   "outputs": [
    {
     "name": "stdout",
     "output_type": "stream",
     "text": [
      "eyokdgz\n"
     ]
    }
   ],
   "source": [
    "draw = ''.join(list(map(lambda x: random.choice(string.ascii_lowercase), range(7))))\n",
    "print(draw)"
   ]
  },
  {
   "cell_type": "code",
   "execution_count": 45,
   "metadata": {},
   "outputs": [
    {
     "name": "stdout",
     "output_type": "stream",
     "text": [
      "3.59 ms ± 125 µs per loop (mean ± std. dev. of 7 runs, 100 loops each)\n"
     ]
    }
   ],
   "source": [
    "%timeit get_possible_dict_words(draw)"
   ]
  },
  {
   "cell_type": "code",
   "execution_count": 46,
   "metadata": {},
   "outputs": [
    {
     "name": "stdout",
     "output_type": "stream",
     "text": [
      "20.6 ms ± 253 µs per loop (mean ± std. dev. of 7 runs, 10 loops each)\n"
     ]
    }
   ],
   "source": [
    "%timeit get_possible_dict_words1(draw)"
   ]
  },
  {
   "cell_type": "code",
   "execution_count": null,
   "metadata": {},
   "outputs": [],
   "source": []
  },
  {
   "cell_type": "code",
   "execution_count": 73,
   "metadata": {},
   "outputs": [
    {
     "name": "stdout",
     "output_type": "stream",
     "text": [
      "<class 'itertools.permutations'>\n"
     ]
    }
   ],
   "source": [
    "d = itertools.permutations(draw)\n",
    "e = [word for word in d if word in dictionary]\n",
    "print(type(d))"
   ]
  },
  {
   "cell_type": "code",
   "execution_count": 7,
   "metadata": {},
   "outputs": [],
   "source": [
    "import pytest\n",
    "\n",
    "scrabble_scores = [(1, \"E A O I N R T L S U\"), (2, \"D G\"), (3, \"B C M P\"),\n",
    "                   (4, \"F H V W Y\"), (5, \"K\"), (8, \"J X\"), (10, \"Q Z\")]\n",
    "LETTER_SCORES = {letter: score for score, letters in scrabble_scores\n",
    "                 for letter in letters.split()}\n",
    "\n",
    "def calc_word_value(word):\n",
    "    \"\"\"Calc a given word value based on Scrabble LETTER_SCORES mapping\"\"\"\n",
    "    return sum(LETTER_SCORES.get(char.upper(), 0) for char in word)\n",
    "\n",
    "\n",
    "def max_word_value(words):\n",
    "    \"\"\"Calc the max value of a collection of words\"\"\"\n",
    "    return max(words, key=calc_word_value)\n",
    "\n",
    "\n",
    "@pytest.mark.parametrize(\"draw, expected\", [\n",
    "    ('T, I, I, G, T, T, L', 'gilt'),\n",
    "    ('O, N, V, R, A, Z, H', 'zonar'),\n",
    "    ('E, P, A, E, I, O, A', ('apio', 'peai')),\n",
    "    ('B, R, C, O, O, E, O', 'boce'),\n",
    "    ('G, A, R, Y, T, E, V', 'garvey'),\n",
    "])\n",
    "def test_max_word(draw, expected):\n",
    "    draw = draw.split(', ')\n",
    "    words = get_possible_dict_words(draw)\n",
    "    if len(expected) > 1:\n",
    "        assert max_word_value(words) in expected\n",
    "    else:\n",
    "        assert max_word_value(words) == expected"
   ]
  },
  {
   "cell_type": "code",
   "execution_count": 6,
   "metadata": {},
   "outputs": [],
   "source": [
    "import pytest"
   ]
  },
  {
   "cell_type": "code",
   "execution_count": 8,
   "metadata": {},
   "outputs": [
    {
     "ename": "TypeError",
     "evalue": "test_max_word() missing 2 required positional arguments: 'draw' and 'expected'",
     "output_type": "error",
     "traceback": [
      "\u001b[0;31m---------------------------------------------------------------------------\u001b[0m",
      "\u001b[0;31mTypeError\u001b[0m                                 Traceback (most recent call last)",
      "\u001b[0;32m<ipython-input-8-26ca7225d403>\u001b[0m in \u001b[0;36m<module>\u001b[0;34m\u001b[0m\n\u001b[0;32m----> 1\u001b[0;31m \u001b[0mtest_max_word\u001b[0m\u001b[0;34m(\u001b[0m\u001b[0;34m)\u001b[0m\u001b[0;34m\u001b[0m\u001b[0;34m\u001b[0m\u001b[0m\n\u001b[0m",
      "\u001b[0;31mTypeError\u001b[0m: test_max_word() missing 2 required positional arguments: 'draw' and 'expected'"
     ]
    }
   ],
   "source": [
    "test_max_word()"
   ]
  },
  {
   "cell_type": "code",
   "execution_count": 17,
   "metadata": {},
   "outputs": [
    {
     "name": "stdout",
     "output_type": "stream",
     "text": [
      "[]\n",
      "[]\n"
     ]
    }
   ],
   "source": [
    "word = 'ONVRAZH'\n",
    "print(get_possible_dict_words(word))\n",
    "print(get_possible_dict_words(word))"
   ]
  },
  {
   "cell_type": "code",
   "execution_count": 16,
   "metadata": {},
   "outputs": [
    {
     "name": "stdout",
     "output_type": "stream",
     "text": [
      "onvrazh\n",
      "igkbtge\n"
     ]
    }
   ],
   "source": [
    "print(word.lower())\n",
    "print(draw)"
   ]
  },
  {
   "cell_type": "code",
   "execution_count": null,
   "metadata": {},
   "outputs": [],
   "source": []
  }
 ],
 "metadata": {
  "kernelspec": {
   "display_name": "100days",
   "language": "python",
   "name": "100days"
  },
  "language_info": {
   "codemirror_mode": {
    "name": "ipython",
    "version": 3
   },
   "file_extension": ".py",
   "mimetype": "text/x-python",
   "name": "python",
   "nbconvert_exporter": "python",
   "pygments_lexer": "ipython3",
   "version": "3.6.7"
  }
 },
 "nbformat": 4,
 "nbformat_minor": 2
}
