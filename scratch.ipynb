{
 "cells": [
  {
   "cell_type": "code",
   "execution_count": 54,
   "metadata": {},
   "outputs": [],
   "source": [
    "event = {u'body': u'{\"channel\":\"#None\",\"text\":\"\",\"attachments\":[{\"fallback\":\"Recon:IAMUser/UserPermissions - https://console.aws.amazon.com/guardduty/home?region=eu-west-1#/findings?search=id%3Ddab44a10bca55274547395e06a180a98\",\"pretext\":\"*Finding in eu-west-1 for Acct: 133590555263*\",\"title\":\"Recon:IAMUser/UserPermissions\",\"title_link\":\"https://console.aws.amazon.com/guardduty/home?region=eu-west-1#/findings?search=id%3Ddab44a10bca55274547395e06a180a98\",\"text\":\"APIs commonly used to discover the users, groups, policies and permissions in an account, was invoked by IAM principal dcuk-account-setup under unusual circumstances. Such activity is not typically seen from this principal.\",\"fields\":[{\"title\":\"Severity\",\"value\":\"Medium\",\"short\":true},{\"title\":\"Region\",\"value\":\"eu-west-1\",\"short\":true},{\"title\":\"Last Seen\",\"value\":\"<!date^1548871009^{date} at {time} | 2019-01-30T17:56:49.998Z>\",\"short\":true}],\"mrkdwn_in\":[\"pretext\"],\"color\":\"#e2d43b\"}],\"username\":\"GuardDuty\",\"mrkdwn\":true,\"icon_url\":\"https://raw.githubusercontent.com/aws-samples/amazon-guardduty-to-slack/master/images/gd_logo.png\"}', u'resource': u'/alerts/alerts_get_input', u'requestContext': {u'requestTime': u'30/Jan/2019:18:07:16 +0000', u'protocol': u'HTTP/1.1', u'domainName': u'1tail66479.execute-api.eu-west-1.amazonaws.com', u'resourceId': u'pb8bv4', u'apiId': u'1tail66479', u'resourcePath': u'/alerts/alerts_get_input', u'httpMethod': u'POST', u'domainPrefix': u'1tail66479', u'requestId': u'e095e406-24b9-11e9-8c2b-bdf3f2c61f76', u'extendedRequestId': u'UVEpOHe9DoEFzcA=', u'path': u'/dev/alerts/alerts_get_input', u'stage': u'dev', u'requestTimeEpoch': 1548871636698, u'identity': {u'userArn': None, u'cognitoAuthenticationType': None, u'accessKey': None, u'caller': None, u'userAgent': None, u'user': None, u'cognitoIdentityPoolId': None, u'cognitoIdentityId': None, u'cognitoAuthenticationProvider': None, u'sourceIp': u'34.251.246.82', u'accountId': None}, u'accountId': u'389957958676'}, u'queryStringParameters': None, u'multiValueHeaders': {u'Content-Type': [u'application/json'], u'Via': [u'1.1 e66a15cf6c7b01b2d613f4b2fc6c4f25.cloudfront.net (CloudFront)'], u'CloudFront-Is-Desktop-Viewer': [u'true'], u'CloudFront-Is-SmartTV-Viewer': [u'false'], u'CloudFront-Forwarded-Proto': [u'https'], u'X-Forwarded-For': [u'34.251.246.82, 216.137.56.53'], u'CloudFront-Viewer-Country': [u'IE'], u'X-Amzn-Trace-Id': [u'Root=1-5c51e7d4-e9caa897530d382b2da5dfb7'], u'Host': [u'1tail66479.execute-api.eu-west-1.amazonaws.com'], u'X-Forwarded-Proto': [u'https'], u'X-Amz-Cf-Id': [u'7G1idbcMa7rS4wZ-m7LL_FwPpU8ZKEd7GhC4LZyv8Kh5YcSjhVlcWg=='], u'CloudFront-Is-Tablet-Viewer': [u'false'], u'X-Forwarded-Port': [u'443'], u'CloudFront-Is-Mobile-Viewer': [u'false']}, u'multiValueQueryStringParameters': None, u'pathParameters': None, u'headers': {u'Content-Type': u'application/json', u'Via': u'1.1 e66a15cf6c7b01b2d613f4b2fc6c4f25.cloudfront.net (CloudFront)', u'CloudFront-Is-Desktop-Viewer': u'true', u'CloudFront-Is-SmartTV-Viewer': u'false', u'CloudFront-Forwarded-Proto': u'https', u'X-Forwarded-For': u'34.251.246.82, 216.137.56.53', u'CloudFront-Viewer-Country': u'IE', u'X-Amzn-Trace-Id': u'Root=1-5c51e7d4-e9caa897530d382b2da5dfb7', u'Host': u'1tail66479.execute-api.eu-west-1.amazonaws.com', u'X-Forwarded-Proto': u'https', u'X-Amz-Cf-Id': u'7G1idbcMa7rS4wZ-m7LL_FwPpU8ZKEd7GhC4LZyv8Kh5YcSjhVlcWg==', u'CloudFront-Is-Tablet-Viewer': u'false', u'X-Forwarded-Port': u'443', u'CloudFront-Is-Mobile-Viewer': u'false'}, u'isBase64Encoded': False, u'stageVariables': None, u'path': u'/alerts/alerts_get_input', u'httpMethod': u'POST'}"
   ]
  },
  {
   "cell_type": "code",
   "execution_count": null,
   "metadata": {},
   "outputs": [],
   "source": []
  },
  {
   "cell_type": "code",
   "execution_count": 55,
   "metadata": {},
   "outputs": [
    {
     "data": {
      "text/plain": [
       "{'channel': '#None',\n",
       " 'text': '',\n",
       " 'attachments': [{'fallback': 'Recon:IAMUser/UserPermissions - https://console.aws.amazon.com/guardduty/home?region=eu-west-1#/findings?search=id%3Ddab44a10bca55274547395e06a180a98',\n",
       "   'pretext': '*Finding in eu-west-1 for Acct: 133590555263*',\n",
       "   'title': 'Recon:IAMUser/UserPermissions',\n",
       "   'title_link': 'https://console.aws.amazon.com/guardduty/home?region=eu-west-1#/findings?search=id%3Ddab44a10bca55274547395e06a180a98',\n",
       "   'text': 'APIs commonly used to discover the users, groups, policies and permissions in an account, was invoked by IAM principal dcuk-account-setup under unusual circumstances. Such activity is not typically seen from this principal.',\n",
       "   'fields': [{'title': 'Severity', 'value': 'Medium', 'short': True},\n",
       "    {'title': 'Region', 'value': 'eu-west-1', 'short': True},\n",
       "    {'title': 'Last Seen',\n",
       "     'value': '<!date^1548871009^{date} at {time} | 2019-01-30T17:56:49.998Z>',\n",
       "     'short': True}],\n",
       "   'mrkdwn_in': ['pretext'],\n",
       "   'color': '#e2d43b'}],\n",
       " 'username': 'GuardDuty',\n",
       " 'mrkdwn': True,\n",
       " 'icon_url': 'https://raw.githubusercontent.com/aws-samples/amazon-guardduty-to-slack/master/images/gd_logo.png'}"
      ]
     },
     "execution_count": 55,
     "metadata": {},
     "output_type": "execute_result"
    }
   ],
   "source": [
    "import json\n",
    "data = json.loads(event['body'])\n",
    "data"
   ]
  },
  {
   "cell_type": "code",
   "execution_count": 56,
   "metadata": {},
   "outputs": [
    {
     "data": {
      "text/plain": [
       "'133590555263'"
      ]
     },
     "execution_count": 56,
     "metadata": {},
     "output_type": "execute_result"
    }
   ],
   "source": [
    "data['attachments'][0]['pretext'].split(\" \")[-1][:-1]"
   ]
  },
  {
   "cell_type": "code",
   "execution_count": null,
   "metadata": {},
   "outputs": [],
   "source": []
  },
  {
   "cell_type": "code",
   "execution_count": null,
   "metadata": {},
   "outputs": [],
   "source": []
  },
  {
   "cell_type": "code",
   "execution_count": null,
   "metadata": {},
   "outputs": [],
   "source": []
  },
  {
   "cell_type": "code",
   "execution_count": 25,
   "metadata": {},
   "outputs": [
    {
     "name": "stdout",
     "output_type": "stream",
     "text": [
      "{'username': 'GuardDuty', 'attachments': [{'title': 'Recon:IAMUser/UserPermissions', 'color': '#e2d43b', 'text': 'APIs commonly used to discover the users, groups, policies and permissions in an account, was invoked by IAM principal dcuk-account-setup under unusual circumstances. Such activity is not typically seen from this principal.', 'title_link': 'https://console.aws.amazon.com/guardduty/home?region=eu-west-1#/findings?search=id%3Ddab44a10bca55274547395e06a180a98', 'mrkdwn_in': ['pretext'], 'fields': [{'short': True, 'value': 'Medium', 'title': 'Severity'}, {'short': True, 'value': 'eu-west-1', 'title': 'Region'}, {'short': True, 'value': '<!date^1548871009^{date} at {time} | 2019-01-30T17:56:49.998Z>', 'title': 'Last Seen'}], 'pretext': '*Finding in eu-west-1 for Acct: 133590555263*', 'fallback': 'Recon:IAMUser/UserPermissions - https://console.aws.amazon.com/guardduty/home?region=eu-west-1#/findings?search=id%3Ddab44a10bca55274547395e06a180a98'}], 'text': '', 'mrkdwn': True, 'icon_url': 'https://raw.githubusercontent.com/aws-samples/amazon-guardduty-to-slack/master/images/gd_logo.png', 'channel': '#None'}\n"
     ]
    }
   ],
   "source": [
    "print(data1)"
   ]
  },
  {
   "cell_type": "code",
   "execution_count": 5,
   "metadata": {},
   "outputs": [],
   "source": [
    "NAMES = ['arnold schwarzenegger', 'alec baldwin', 'bob belderbos',\n",
    "         'julian sequeira', 'sandra bullock', 'keanu reeves',\n",
    "         'julbob pybites', 'bob belderbos', 'julian sequeira',\n",
    "         'al pacino', 'brad pitt', 'matt damon', 'brad pitt']"
   ]
  },
  {
   "cell_type": "code",
   "execution_count": 16,
   "metadata": {},
   "outputs": [
    {
     "name": "stdout",
     "output_type": "stream",
     "text": [
      "['Arnold Schwarzenegger', 'Alec Baldwin', 'Bob Belderbos', 'Julian Sequeira', 'Sandra Bullock', 'Keanu Reeves', 'Julbob Pybites', 'Bob Belderbos', 'Julian Sequeira', 'Al Pacino', 'Brad Pitt', 'Matt Damon', 'Brad Pitt']\n",
      "['Arnold Schwarzenegger', 'Alec Baldwin', 'Bob Belderbos', 'Julian Sequeira', 'Sandra Bullock', 'Keanu Reeves', 'Julbob Pybites', 'Bob Belderbos', 'Julian Sequeira', 'Al Pacino', 'Brad Pitt', 'Matt Damon', 'Brad Pitt']\n",
      "['Arnold Schwarzenegger', 'Alec Baldwin', 'Bob Belderbos', 'Julian Sequeira', 'Sandra Bullock', 'Keanu Reeves', 'Julbob Pybites', 'Bob Belderbos', 'Julian Sequeira', 'Al Pacino', 'Brad Pitt', 'Matt Damon', 'Brad Pitt']\n",
      "['Arnold Schwarzenegger', 'Alec Baldwin', 'Bob Belderbos', 'Julian Sequeira', 'Sandra Bullock', 'Keanu Reeves', 'Julbob Pybites', 'Bob Belderbos', 'Julian Sequeira', 'Al Pacino', 'Brad Pitt', 'Matt Damon', 'Brad Pitt']\n",
      "['Arnold Schwarzenegger', 'Alec Baldwin', 'Bob Belderbos', 'Julian Sequeira', 'Sandra Bullock', 'Keanu Reeves', 'Julbob Pybites', 'Bob Belderbos', 'Julian Sequeira', 'Al Pacino', 'Brad Pitt', 'Matt Damon', 'Brad Pitt']\n",
      "['Arnold Schwarzenegger', 'Alec Baldwin', 'Bob Belderbos', 'Julian Sequeira', 'Sandra Bullock', 'Keanu Reeves', 'Julbob Pybites', 'Bob Belderbos', 'Julian Sequeira', 'Al Pacino', 'Brad Pitt', 'Matt Damon', 'Brad Pitt']\n",
      "['Arnold Schwarzenegger', 'Alec Baldwin', 'Bob Belderbos', 'Julian Sequeira', 'Sandra Bullock', 'Keanu Reeves', 'Julbob Pybites', 'Bob Belderbos', 'Julian Sequeira', 'Al Pacino', 'Brad Pitt', 'Matt Damon', 'Brad Pitt']\n",
      "The slowest run took 5.71 times longer than the fastest. This could mean that an intermediate result is being cached.\n",
      "24.4 µs ± 22.6 µs per loop (mean ± std. dev. of 7 runs, 1 loop each)\n"
     ]
    }
   ],
   "source": [
    "def listname():\n",
    "    new_names = []\n",
    "    for i in NAMES:\n",
    "        new_names.append(i.title())\n",
    "    print(new_names)\n",
    "%timeit -n1 listname()"
   ]
  },
  {
   "cell_type": "code",
   "execution_count": 20,
   "metadata": {
    "scrolled": true
   },
   "outputs": [
    {
     "name": "stdout",
     "output_type": "stream",
     "text": [
      "['Arnold Schwarzenegger', 'Alec Baldwin', 'Bob Belderbos', 'Julian Sequeira', 'Sandra Bullock', 'Keanu Reeves', 'Julbob Pybites', 'Bob Belderbos', 'Julian Sequeira', 'Al Pacino', 'Brad Pitt', 'Matt Damon', 'Brad Pitt']\n",
      "['Arnold Schwarzenegger', 'Alec Baldwin', 'Bob Belderbos', 'Julian Sequeira', 'Sandra Bullock', 'Keanu Reeves', 'Julbob Pybites', 'Bob Belderbos', 'Julian Sequeira', 'Al Pacino', 'Brad Pitt', 'Matt Damon', 'Brad Pitt']\n",
      "['Arnold Schwarzenegger', 'Alec Baldwin', 'Bob Belderbos', 'Julian Sequeira', 'Sandra Bullock', 'Keanu Reeves', 'Julbob Pybites', 'Bob Belderbos', 'Julian Sequeira', 'Al Pacino', 'Brad Pitt', 'Matt Damon', 'Brad Pitt']\n",
      "['Arnold Schwarzenegger', 'Alec Baldwin', 'Bob Belderbos', 'Julian Sequeira', 'Sandra Bullock', 'Keanu Reeves', 'Julbob Pybites', 'Bob Belderbos', 'Julian Sequeira', 'Al Pacino', 'Brad Pitt', 'Matt Damon', 'Brad Pitt']\n",
      "['Arnold Schwarzenegger', 'Alec Baldwin', 'Bob Belderbos', 'Julian Sequeira', 'Sandra Bullock', 'Keanu Reeves', 'Julbob Pybites', 'Bob Belderbos', 'Julian Sequeira', 'Al Pacino', 'Brad Pitt', 'Matt Damon', 'Brad Pitt']\n",
      "['Arnold Schwarzenegger', 'Alec Baldwin', 'Bob Belderbos', 'Julian Sequeira', 'Sandra Bullock', 'Keanu Reeves', 'Julbob Pybites', 'Bob Belderbos', 'Julian Sequeira', 'Al Pacino', 'Brad Pitt', 'Matt Damon', 'Brad Pitt']\n",
      "['Arnold Schwarzenegger', 'Alec Baldwin', 'Bob Belderbos', 'Julian Sequeira', 'Sandra Bullock', 'Keanu Reeves', 'Julbob Pybites', 'Bob Belderbos', 'Julian Sequeira', 'Al Pacino', 'Brad Pitt', 'Matt Damon', 'Brad Pitt']\n",
      "The slowest run took 7.79 times longer than the fastest. This could mean that an intermediate result is being cached.\n",
      "333 µs ± 315 µs per loop (mean ± std. dev. of 7 runs, 1 loop each)\n"
     ]
    }
   ],
   "source": [
    "def list_comp_names():\n",
    "    new_names2 = [i.title() for i in NAMES]\n",
    "    print(new_names2)\n",
    "%timeit -n1 list_comp_names()"
   ]
  },
  {
   "cell_type": "code",
   "execution_count": 25,
   "metadata": {},
   "outputs": [
    {
     "data": {
      "text/plain": [
       "4.405545947000064"
      ]
     },
     "execution_count": 25,
     "metadata": {},
     "output_type": "execute_result"
    }
   ],
   "source": [
    "import timeit\n",
    "TEST_CODE1 = '''\n",
    "mylist = [x * 2 for x in range(10000)]\n",
    "'''\n",
    "\n",
    "timeit.timeit(stmt=TEST_CODE1, number=10000)"
   ]
  },
  {
   "cell_type": "code",
   "execution_count": 24,
   "metadata": {},
   "outputs": [
    {
     "data": {
      "text/plain": [
       "7.689550607003184"
      ]
     },
     "execution_count": 24,
     "metadata": {},
     "output_type": "execute_result"
    }
   ],
   "source": [
    "TEST_CODE2 = '''\n",
    "mylist = []\n",
    "for x in range(10000):\n",
    "\tmylist.append(x*2)\n",
    "'''\n",
    "timeit.timeit(stmt=TEST_CODE2, number=10000)"
   ]
  },
  {
   "cell_type": "code",
   "execution_count": 59,
   "metadata": {},
   "outputs": [
    {
     "name": "stdout",
     "output_type": "stream",
     "text": [
      "6\n",
      "9\n",
      "2\n",
      "6\n",
      "9\n"
     ]
    }
   ],
   "source": [
    "def function1(): # outer function  \n",
    "    x = 2 # A variable defined within the outer function\n",
    "    def function2(a): # inner function\n",
    "       # Let's define a new variable within the inner function\n",
    "       # rather than changing the value of x of the outer function\n",
    "        x = 6\n",
    "        print(x)\n",
    "        print (a+x)\n",
    "    function2(3)\n",
    "    print (x) # to display the value of x of the outer function\n",
    "    function2(3)\n",
    "\n",
    "function1()  "
   ]
  },
  {
   "cell_type": "code",
   "execution_count": null,
   "metadata": {},
   "outputs": [],
   "source": []
  },
  {
   "cell_type": "code",
   "execution_count": null,
   "metadata": {},
   "outputs": [],
   "source": []
  },
  {
   "cell_type": "code",
   "execution_count": null,
   "metadata": {},
   "outputs": [],
   "source": []
  }
 ],
 "metadata": {
  "kernelspec": {
   "display_name": "Python 3",
   "language": "python",
   "name": "python3"
  },
  "language_info": {
   "codemirror_mode": {
    "name": "ipython",
    "version": 3
   },
   "file_extension": ".py",
   "mimetype": "text/x-python",
   "name": "python",
   "nbconvert_exporter": "python",
   "pygments_lexer": "ipython3",
   "version": "3.6.7"
  }
 },
 "nbformat": 4,
 "nbformat_minor": 2
}
