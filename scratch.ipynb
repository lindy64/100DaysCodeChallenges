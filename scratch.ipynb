{
 "cells": [
  {
   "cell_type": "code",
   "execution_count": 5,
   "metadata": {},
   "outputs": [],
   "source": [
    "NAMES = ['arnold schwarzenegger', 'alec baldwin', 'bob belderbos',\n",
    "         'julian sequeira', 'sandra bullock', 'keanu reeves',\n",
    "         'julbob pybites', 'bob belderbos', 'julian sequeira',\n",
    "         'al pacino', 'brad pitt', 'matt damon', 'brad pitt']"
   ]
  },
  {
   "cell_type": "code",
   "execution_count": 16,
   "metadata": {},
   "outputs": [
    {
     "name": "stdout",
     "output_type": "stream",
     "text": [
      "['Arnold Schwarzenegger', 'Alec Baldwin', 'Bob Belderbos', 'Julian Sequeira', 'Sandra Bullock', 'Keanu Reeves', 'Julbob Pybites', 'Bob Belderbos', 'Julian Sequeira', 'Al Pacino', 'Brad Pitt', 'Matt Damon', 'Brad Pitt']\n",
      "['Arnold Schwarzenegger', 'Alec Baldwin', 'Bob Belderbos', 'Julian Sequeira', 'Sandra Bullock', 'Keanu Reeves', 'Julbob Pybites', 'Bob Belderbos', 'Julian Sequeira', 'Al Pacino', 'Brad Pitt', 'Matt Damon', 'Brad Pitt']\n",
      "['Arnold Schwarzenegger', 'Alec Baldwin', 'Bob Belderbos', 'Julian Sequeira', 'Sandra Bullock', 'Keanu Reeves', 'Julbob Pybites', 'Bob Belderbos', 'Julian Sequeira', 'Al Pacino', 'Brad Pitt', 'Matt Damon', 'Brad Pitt']\n",
      "['Arnold Schwarzenegger', 'Alec Baldwin', 'Bob Belderbos', 'Julian Sequeira', 'Sandra Bullock', 'Keanu Reeves', 'Julbob Pybites', 'Bob Belderbos', 'Julian Sequeira', 'Al Pacino', 'Brad Pitt', 'Matt Damon', 'Brad Pitt']\n",
      "['Arnold Schwarzenegger', 'Alec Baldwin', 'Bob Belderbos', 'Julian Sequeira', 'Sandra Bullock', 'Keanu Reeves', 'Julbob Pybites', 'Bob Belderbos', 'Julian Sequeira', 'Al Pacino', 'Brad Pitt', 'Matt Damon', 'Brad Pitt']\n",
      "['Arnold Schwarzenegger', 'Alec Baldwin', 'Bob Belderbos', 'Julian Sequeira', 'Sandra Bullock', 'Keanu Reeves', 'Julbob Pybites', 'Bob Belderbos', 'Julian Sequeira', 'Al Pacino', 'Brad Pitt', 'Matt Damon', 'Brad Pitt']\n",
      "['Arnold Schwarzenegger', 'Alec Baldwin', 'Bob Belderbos', 'Julian Sequeira', 'Sandra Bullock', 'Keanu Reeves', 'Julbob Pybites', 'Bob Belderbos', 'Julian Sequeira', 'Al Pacino', 'Brad Pitt', 'Matt Damon', 'Brad Pitt']\n",
      "The slowest run took 5.71 times longer than the fastest. This could mean that an intermediate result is being cached.\n",
      "24.4 µs ± 22.6 µs per loop (mean ± std. dev. of 7 runs, 1 loop each)\n"
     ]
    }
   ],
   "source": [
    "def listname():\n",
    "    new_names = []\n",
    "    for i in NAMES:\n",
    "        new_names.append(i.title())\n",
    "    print(new_names)\n",
    "%timeit -n1 listname()"
   ]
  },
  {
   "cell_type": "code",
   "execution_count": 20,
   "metadata": {
    "scrolled": true
   },
   "outputs": [
    {
     "name": "stdout",
     "output_type": "stream",
     "text": [
      "['Arnold Schwarzenegger', 'Alec Baldwin', 'Bob Belderbos', 'Julian Sequeira', 'Sandra Bullock', 'Keanu Reeves', 'Julbob Pybites', 'Bob Belderbos', 'Julian Sequeira', 'Al Pacino', 'Brad Pitt', 'Matt Damon', 'Brad Pitt']\n",
      "['Arnold Schwarzenegger', 'Alec Baldwin', 'Bob Belderbos', 'Julian Sequeira', 'Sandra Bullock', 'Keanu Reeves', 'Julbob Pybites', 'Bob Belderbos', 'Julian Sequeira', 'Al Pacino', 'Brad Pitt', 'Matt Damon', 'Brad Pitt']\n",
      "['Arnold Schwarzenegger', 'Alec Baldwin', 'Bob Belderbos', 'Julian Sequeira', 'Sandra Bullock', 'Keanu Reeves', 'Julbob Pybites', 'Bob Belderbos', 'Julian Sequeira', 'Al Pacino', 'Brad Pitt', 'Matt Damon', 'Brad Pitt']\n",
      "['Arnold Schwarzenegger', 'Alec Baldwin', 'Bob Belderbos', 'Julian Sequeira', 'Sandra Bullock', 'Keanu Reeves', 'Julbob Pybites', 'Bob Belderbos', 'Julian Sequeira', 'Al Pacino', 'Brad Pitt', 'Matt Damon', 'Brad Pitt']\n",
      "['Arnold Schwarzenegger', 'Alec Baldwin', 'Bob Belderbos', 'Julian Sequeira', 'Sandra Bullock', 'Keanu Reeves', 'Julbob Pybites', 'Bob Belderbos', 'Julian Sequeira', 'Al Pacino', 'Brad Pitt', 'Matt Damon', 'Brad Pitt']\n",
      "['Arnold Schwarzenegger', 'Alec Baldwin', 'Bob Belderbos', 'Julian Sequeira', 'Sandra Bullock', 'Keanu Reeves', 'Julbob Pybites', 'Bob Belderbos', 'Julian Sequeira', 'Al Pacino', 'Brad Pitt', 'Matt Damon', 'Brad Pitt']\n",
      "['Arnold Schwarzenegger', 'Alec Baldwin', 'Bob Belderbos', 'Julian Sequeira', 'Sandra Bullock', 'Keanu Reeves', 'Julbob Pybites', 'Bob Belderbos', 'Julian Sequeira', 'Al Pacino', 'Brad Pitt', 'Matt Damon', 'Brad Pitt']\n",
      "The slowest run took 7.79 times longer than the fastest. This could mean that an intermediate result is being cached.\n",
      "333 µs ± 315 µs per loop (mean ± std. dev. of 7 runs, 1 loop each)\n"
     ]
    }
   ],
   "source": [
    "def list_comp_names():\n",
    "    new_names2 = [i.title() for i in NAMES]\n",
    "    print(new_names2)\n",
    "%timeit -n1 list_comp_names()"
   ]
  },
  {
   "cell_type": "code",
   "execution_count": 25,
   "metadata": {},
   "outputs": [
    {
     "data": {
      "text/plain": [
       "4.405545947000064"
      ]
     },
     "execution_count": 25,
     "metadata": {},
     "output_type": "execute_result"
    }
   ],
   "source": [
    "import timeit\n",
    "TEST_CODE1 = '''\n",
    "mylist = [x * 2 for x in range(10000)]\n",
    "'''\n",
    "\n",
    "timeit.timeit(stmt=TEST_CODE1, number=10000)"
   ]
  },
  {
   "cell_type": "code",
   "execution_count": 24,
   "metadata": {},
   "outputs": [
    {
     "data": {
      "text/plain": [
       "7.689550607003184"
      ]
     },
     "execution_count": 24,
     "metadata": {},
     "output_type": "execute_result"
    }
   ],
   "source": [
    "TEST_CODE2 = '''\n",
    "mylist = []\n",
    "for x in range(10000):\n",
    "\tmylist.append(x*2)\n",
    "'''\n",
    "timeit.timeit(stmt=TEST_CODE2, number=10000)"
   ]
  },
  {
   "cell_type": "code",
   "execution_count": 59,
   "metadata": {},
   "outputs": [
    {
     "name": "stdout",
     "output_type": "stream",
     "text": [
      "6\n",
      "9\n",
      "2\n",
      "6\n",
      "9\n"
     ]
    }
   ],
   "source": [
    "def function1(): # outer function  \n",
    "    x = 2 # A variable defined within the outer function\n",
    "    def function2(a): # inner function\n",
    "       # Let's define a new variable within the inner function\n",
    "       # rather than changing the value of x of the outer function\n",
    "        x = 6\n",
    "        print(x)\n",
    "        print (a+x)\n",
    "    function2(3)\n",
    "    print (x) # to display the value of x of the outer function\n",
    "    function2(3)\n",
    "\n",
    "function1()  "
   ]
  },
  {
   "cell_type": "code",
   "execution_count": null,
   "metadata": {},
   "outputs": [],
   "source": []
  },
  {
   "cell_type": "code",
   "execution_count": null,
   "metadata": {},
   "outputs": [],
   "source": []
  },
  {
   "cell_type": "code",
   "execution_count": null,
   "metadata": {},
   "outputs": [],
   "source": []
  }
 ],
 "metadata": {
  "kernelspec": {
   "display_name": "Python 3",
   "language": "python",
   "name": "python3"
  },
  "language_info": {
   "codemirror_mode": {
    "name": "ipython",
    "version": 3
   },
   "file_extension": ".py",
   "mimetype": "text/x-python",
   "name": "python",
   "nbconvert_exporter": "python",
   "pygments_lexer": "ipython3",
   "version": "3.6.7"
  }
 },
 "nbformat": 4,
 "nbformat_minor": 2
}
